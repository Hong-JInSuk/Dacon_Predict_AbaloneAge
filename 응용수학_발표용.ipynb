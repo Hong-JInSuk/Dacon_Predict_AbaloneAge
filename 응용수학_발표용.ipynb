{
  "nbformat": 4,
  "nbformat_minor": 0,
  "metadata": {
    "colab": {
      "name": "응용수학_발표용.ipynb",
      "provenance": [],
      "collapsed_sections": []
    },
    "kernelspec": {
      "name": "python3",
      "display_name": "Python 3"
    },
    "language_info": {
      "name": "python"
    }
  },
  "cells": [
    {
      "cell_type": "code",
      "source": [
        "from google.colab import files\n",
        "upload_files=files.upload()\n",
        "# load model & test2 & train2"
      ],
      "metadata": {
        "colab": {
          "resources": {
            "http://localhost:8080/nbextensions/google.colab/files.js": {
              "data": "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",
              "ok": true,
              "headers": [
                [
                  "content-type",
                  "application/javascript"
                ]
              ],
              "status": 200,
              "status_text": ""
            }
          },
          "base_uri": "https://localhost:8080/",
          "height": 110
        },
        "id": "YvgN9CvzqPL9",
        "outputId": "3ecd4b69-9eb7-409c-e617-77bc03e520df"
      },
      "execution_count": null,
      "outputs": [
        {
          "output_type": "display_data",
          "data": {
            "text/plain": [
              "<IPython.core.display.HTML object>"
            ],
            "text/html": [
              "\n",
              "     <input type=\"file\" id=\"files-cbe91025-2a2b-4d3f-97a6-03148127ed2f\" name=\"files[]\" multiple disabled\n",
              "        style=\"border:none\" />\n",
              "     <output id=\"result-cbe91025-2a2b-4d3f-97a6-03148127ed2f\">\n",
              "      Upload widget is only available when the cell has been executed in the\n",
              "      current browser session. Please rerun this cell to enable.\n",
              "      </output>\n",
              "      <script src=\"/nbextensions/google.colab/files.js\"></script> "
            ]
          },
          "metadata": {}
        },
        {
          "output_type": "stream",
          "name": "stdout",
          "text": [
            "Saving test2.csv to test2.csv\n",
            "Saving train2.csv to train2.csv\n"
          ]
        }
      ]
    },
    {
      "cell_type": "code",
      "source": [
        "import numpy as np\n",
        "import pandas as pd\n",
        "import matplotlib.pyplot as plt\n",
        "import scipy as sp\n",
        "import seaborn as sns\n",
        "import math"
      ],
      "metadata": {
        "id": "Y4S7PPZd0fK2"
      },
      "execution_count": null,
      "outputs": []
    },
    {
      "cell_type": "code",
      "source": [
        "#import pickle\n",
        "#with open('2018037053_홍진석', 'rb') as f:\n",
        "#  models = pickle.load(f) # model을 받아옴.\n",
        "\n",
        "train = pd.read_csv(\"./train2.csv\")\n",
        "test = pd.read_csv(\"./test2.csv\") # train과 test받아옴."
      ],
      "metadata": {
        "id": "1aQMkhAn0r34"
      },
      "execution_count": null,
      "outputs": []
    },
    {
      "cell_type": "code",
      "source": [
        "train = train[train[\"Shucked Weight\"] >= train[\"Viscra Weight\"]] # 전복무게 < 내장무게 삭제\n",
        "train = train[train[\"Shucked Weight\"] >= train[\"Shell Weight\"]] # 전복무게 < 껍질무게 삭제\n",
        "train = train[(train['Whole Weight'] >= (train['Shucked Weight'] + train['Viscra Weight'] + train['Shell Weight']))] # 전체무게 < 전복무게+내장+껍질 삭제\n",
        "# 전처리 완료!!"
      ],
      "metadata": {
        "id": "17fGmw-Z7yAq"
      },
      "execution_count": null,
      "outputs": []
    },
    {
      "cell_type": "code",
      "source": [
        "Gender_encode={'F':1,'M':2,'I':3}\n",
        "col=['Gender']\n",
        "\n",
        "train[col]=train[col].applymap(Gender_encode.get)\n",
        "test[col]=test[col].applymap(Gender_encode.get) # applymap이라는 함수를 이용하여 F -> 1, M -> 2, I -> 3 으로 맵핑해줌."
      ],
      "metadata": {
        "id": "ESDatF-f9ilJ"
      },
      "execution_count": null,
      "outputs": []
    },
    {
      "cell_type": "code",
      "source": [
        "train.head() "
      ],
      "metadata": {
        "colab": {
          "base_uri": "https://localhost:8080/",
          "height": 206
        },
        "id": "-PClq6h8_pKW",
        "outputId": "4e1fc484-084a-4df9-a793-033b2fe40fdb"
      },
      "execution_count": null,
      "outputs": [
        {
          "output_type": "execute_result",
          "data": {
            "text/plain": [
              "   Unnamed: 0    id  Gender  Lenght  Diameter  Height  Whole Weight  \\\n",
              "0        1154  1155       2   0.570     0.480   0.180        0.9395   \n",
              "1         830   831       2   0.560     0.425   0.135        0.9415   \n",
              "2        1162  1163       1   0.655     0.510   0.150        1.0430   \n",
              "4        1058  1059       2   0.310     0.225   0.075        0.1295   \n",
              "5         220   221       1   0.565     0.400   0.130        0.6975   \n",
              "\n",
              "   Shucked Weight  Viscra Weight  Shell Weight  Target  \n",
              "0          0.3990         0.2000        0.2950      14  \n",
              "1          0.5090         0.2015        0.1975       9  \n",
              "2          0.4795         0.2230        0.3050       9  \n",
              "4          0.0455         0.0335        0.0440       9  \n",
              "5          0.3075         0.1665        0.1800       8  "
            ],
            "text/html": [
              "\n",
              "  <div id=\"df-62f9a89f-54ee-41fc-b497-c5e3b7393898\">\n",
              "    <div class=\"colab-df-container\">\n",
              "      <div>\n",
              "<style scoped>\n",
              "    .dataframe tbody tr th:only-of-type {\n",
              "        vertical-align: middle;\n",
              "    }\n",
              "\n",
              "    .dataframe tbody tr th {\n",
              "        vertical-align: top;\n",
              "    }\n",
              "\n",
              "    .dataframe thead th {\n",
              "        text-align: right;\n",
              "    }\n",
              "</style>\n",
              "<table border=\"1\" class=\"dataframe\">\n",
              "  <thead>\n",
              "    <tr style=\"text-align: right;\">\n",
              "      <th></th>\n",
              "      <th>Unnamed: 0</th>\n",
              "      <th>id</th>\n",
              "      <th>Gender</th>\n",
              "      <th>Lenght</th>\n",
              "      <th>Diameter</th>\n",
              "      <th>Height</th>\n",
              "      <th>Whole Weight</th>\n",
              "      <th>Shucked Weight</th>\n",
              "      <th>Viscra Weight</th>\n",
              "      <th>Shell Weight</th>\n",
              "      <th>Target</th>\n",
              "    </tr>\n",
              "  </thead>\n",
              "  <tbody>\n",
              "    <tr>\n",
              "      <th>0</th>\n",
              "      <td>1154</td>\n",
              "      <td>1155</td>\n",
              "      <td>2</td>\n",
              "      <td>0.570</td>\n",
              "      <td>0.480</td>\n",
              "      <td>0.180</td>\n",
              "      <td>0.9395</td>\n",
              "      <td>0.3990</td>\n",
              "      <td>0.2000</td>\n",
              "      <td>0.2950</td>\n",
              "      <td>14</td>\n",
              "    </tr>\n",
              "    <tr>\n",
              "      <th>1</th>\n",
              "      <td>830</td>\n",
              "      <td>831</td>\n",
              "      <td>2</td>\n",
              "      <td>0.560</td>\n",
              "      <td>0.425</td>\n",
              "      <td>0.135</td>\n",
              "      <td>0.9415</td>\n",
              "      <td>0.5090</td>\n",
              "      <td>0.2015</td>\n",
              "      <td>0.1975</td>\n",
              "      <td>9</td>\n",
              "    </tr>\n",
              "    <tr>\n",
              "      <th>2</th>\n",
              "      <td>1162</td>\n",
              "      <td>1163</td>\n",
              "      <td>1</td>\n",
              "      <td>0.655</td>\n",
              "      <td>0.510</td>\n",
              "      <td>0.150</td>\n",
              "      <td>1.0430</td>\n",
              "      <td>0.4795</td>\n",
              "      <td>0.2230</td>\n",
              "      <td>0.3050</td>\n",
              "      <td>9</td>\n",
              "    </tr>\n",
              "    <tr>\n",
              "      <th>4</th>\n",
              "      <td>1058</td>\n",
              "      <td>1059</td>\n",
              "      <td>2</td>\n",
              "      <td>0.310</td>\n",
              "      <td>0.225</td>\n",
              "      <td>0.075</td>\n",
              "      <td>0.1295</td>\n",
              "      <td>0.0455</td>\n",
              "      <td>0.0335</td>\n",
              "      <td>0.0440</td>\n",
              "      <td>9</td>\n",
              "    </tr>\n",
              "    <tr>\n",
              "      <th>5</th>\n",
              "      <td>220</td>\n",
              "      <td>221</td>\n",
              "      <td>1</td>\n",
              "      <td>0.565</td>\n",
              "      <td>0.400</td>\n",
              "      <td>0.130</td>\n",
              "      <td>0.6975</td>\n",
              "      <td>0.3075</td>\n",
              "      <td>0.1665</td>\n",
              "      <td>0.1800</td>\n",
              "      <td>8</td>\n",
              "    </tr>\n",
              "  </tbody>\n",
              "</table>\n",
              "</div>\n",
              "      <button class=\"colab-df-convert\" onclick=\"convertToInteractive('df-62f9a89f-54ee-41fc-b497-c5e3b7393898')\"\n",
              "              title=\"Convert this dataframe to an interactive table.\"\n",
              "              style=\"display:none;\">\n",
              "        \n",
              "  <svg xmlns=\"http://www.w3.org/2000/svg\" height=\"24px\"viewBox=\"0 0 24 24\"\n",
              "       width=\"24px\">\n",
              "    <path d=\"M0 0h24v24H0V0z\" fill=\"none\"/>\n",
              "    <path d=\"M18.56 5.44l.94 2.06.94-2.06 2.06-.94-2.06-.94-.94-2.06-.94 2.06-2.06.94zm-11 1L8.5 8.5l.94-2.06 2.06-.94-2.06-.94L8.5 2.5l-.94 2.06-2.06.94zm10 10l.94 2.06.94-2.06 2.06-.94-2.06-.94-.94-2.06-.94 2.06-2.06.94z\"/><path d=\"M17.41 7.96l-1.37-1.37c-.4-.4-.92-.59-1.43-.59-.52 0-1.04.2-1.43.59L10.3 9.45l-7.72 7.72c-.78.78-.78 2.05 0 2.83L4 21.41c.39.39.9.59 1.41.59.51 0 1.02-.2 1.41-.59l7.78-7.78 2.81-2.81c.8-.78.8-2.07 0-2.86zM5.41 20L4 18.59l7.72-7.72 1.47 1.35L5.41 20z\"/>\n",
              "  </svg>\n",
              "      </button>\n",
              "      \n",
              "  <style>\n",
              "    .colab-df-container {\n",
              "      display:flex;\n",
              "      flex-wrap:wrap;\n",
              "      gap: 12px;\n",
              "    }\n",
              "\n",
              "    .colab-df-convert {\n",
              "      background-color: #E8F0FE;\n",
              "      border: none;\n",
              "      border-radius: 50%;\n",
              "      cursor: pointer;\n",
              "      display: none;\n",
              "      fill: #1967D2;\n",
              "      height: 32px;\n",
              "      padding: 0 0 0 0;\n",
              "      width: 32px;\n",
              "    }\n",
              "\n",
              "    .colab-df-convert:hover {\n",
              "      background-color: #E2EBFA;\n",
              "      box-shadow: 0px 1px 2px rgba(60, 64, 67, 0.3), 0px 1px 3px 1px rgba(60, 64, 67, 0.15);\n",
              "      fill: #174EA6;\n",
              "    }\n",
              "\n",
              "    [theme=dark] .colab-df-convert {\n",
              "      background-color: #3B4455;\n",
              "      fill: #D2E3FC;\n",
              "    }\n",
              "\n",
              "    [theme=dark] .colab-df-convert:hover {\n",
              "      background-color: #434B5C;\n",
              "      box-shadow: 0px 1px 3px 1px rgba(0, 0, 0, 0.15);\n",
              "      filter: drop-shadow(0px 1px 2px rgba(0, 0, 0, 0.3));\n",
              "      fill: #FFFFFF;\n",
              "    }\n",
              "  </style>\n",
              "\n",
              "      <script>\n",
              "        const buttonEl =\n",
              "          document.querySelector('#df-62f9a89f-54ee-41fc-b497-c5e3b7393898 button.colab-df-convert');\n",
              "        buttonEl.style.display =\n",
              "          google.colab.kernel.accessAllowed ? 'block' : 'none';\n",
              "\n",
              "        async function convertToInteractive(key) {\n",
              "          const element = document.querySelector('#df-62f9a89f-54ee-41fc-b497-c5e3b7393898');\n",
              "          const dataTable =\n",
              "            await google.colab.kernel.invokeFunction('convertToInteractive',\n",
              "                                                     [key], {});\n",
              "          if (!dataTable) return;\n",
              "\n",
              "          const docLinkHtml = 'Like what you see? Visit the ' +\n",
              "            '<a target=\"_blank\" href=https://colab.research.google.com/notebooks/data_table.ipynb>data table notebook</a>'\n",
              "            + ' to learn more about interactive tables.';\n",
              "          element.innerHTML = '';\n",
              "          dataTable['output_type'] = 'display_data';\n",
              "          await google.colab.output.renderOutput(dataTable, element);\n",
              "          const docLink = document.createElement('div');\n",
              "          docLink.innerHTML = docLinkHtml;\n",
              "          element.appendChild(docLink);\n",
              "        }\n",
              "      </script>\n",
              "    </div>\n",
              "  </div>\n",
              "  "
            ]
          },
          "metadata": {},
          "execution_count": 7
        }
      ]
    },
    {
      "cell_type": "code",
      "source": [
        "test.head()\n",
        "# test와 train의 Gender를 숫자로 바뀐 것을 알 수 있다.\n",
        "# 성별도 학습하는 기준이 되었다!!!"
      ],
      "metadata": {
        "colab": {
          "base_uri": "https://localhost:8080/",
          "height": 206
        },
        "id": "SFXMDDWX_8JJ",
        "outputId": "2a88f455-2bff-4220-d511-c28e894d56d6"
      },
      "execution_count": null,
      "outputs": [
        {
          "output_type": "execute_result",
          "data": {
            "text/plain": [
              "   Unnamed: 0    id  Gender  Lenght  Diameter  Height  Whole Weight  \\\n",
              "0        1213  1214       1   0.435     0.350   0.125        0.4590   \n",
              "1         537   538       2   0.525     0.395   0.165        0.7820   \n",
              "2        1216  1217       2   0.465     0.360   0.080        0.4880   \n",
              "3         692   693       3   0.380     0.300   0.090        0.2770   \n",
              "4         575   576       2   0.510     0.390   0.125        0.6565   \n",
              "\n",
              "   Shucked Weight  Viscra Weight  Shell Weight  Target  \n",
              "0          0.1970         0.1145         0.145       9  \n",
              "1          0.2850         0.1405         0.285      19  \n",
              "2          0.1910         0.1250         0.155      11  \n",
              "3          0.1655         0.0625         0.082       6  \n",
              "4          0.2620         0.1835         0.175      10  "
            ],
            "text/html": [
              "\n",
              "  <div id=\"df-662bb7cb-70d8-4132-9562-5cc62ebea4aa\">\n",
              "    <div class=\"colab-df-container\">\n",
              "      <div>\n",
              "<style scoped>\n",
              "    .dataframe tbody tr th:only-of-type {\n",
              "        vertical-align: middle;\n",
              "    }\n",
              "\n",
              "    .dataframe tbody tr th {\n",
              "        vertical-align: top;\n",
              "    }\n",
              "\n",
              "    .dataframe thead th {\n",
              "        text-align: right;\n",
              "    }\n",
              "</style>\n",
              "<table border=\"1\" class=\"dataframe\">\n",
              "  <thead>\n",
              "    <tr style=\"text-align: right;\">\n",
              "      <th></th>\n",
              "      <th>Unnamed: 0</th>\n",
              "      <th>id</th>\n",
              "      <th>Gender</th>\n",
              "      <th>Lenght</th>\n",
              "      <th>Diameter</th>\n",
              "      <th>Height</th>\n",
              "      <th>Whole Weight</th>\n",
              "      <th>Shucked Weight</th>\n",
              "      <th>Viscra Weight</th>\n",
              "      <th>Shell Weight</th>\n",
              "      <th>Target</th>\n",
              "    </tr>\n",
              "  </thead>\n",
              "  <tbody>\n",
              "    <tr>\n",
              "      <th>0</th>\n",
              "      <td>1213</td>\n",
              "      <td>1214</td>\n",
              "      <td>1</td>\n",
              "      <td>0.435</td>\n",
              "      <td>0.350</td>\n",
              "      <td>0.125</td>\n",
              "      <td>0.4590</td>\n",
              "      <td>0.1970</td>\n",
              "      <td>0.1145</td>\n",
              "      <td>0.145</td>\n",
              "      <td>9</td>\n",
              "    </tr>\n",
              "    <tr>\n",
              "      <th>1</th>\n",
              "      <td>537</td>\n",
              "      <td>538</td>\n",
              "      <td>2</td>\n",
              "      <td>0.525</td>\n",
              "      <td>0.395</td>\n",
              "      <td>0.165</td>\n",
              "      <td>0.7820</td>\n",
              "      <td>0.2850</td>\n",
              "      <td>0.1405</td>\n",
              "      <td>0.285</td>\n",
              "      <td>19</td>\n",
              "    </tr>\n",
              "    <tr>\n",
              "      <th>2</th>\n",
              "      <td>1216</td>\n",
              "      <td>1217</td>\n",
              "      <td>2</td>\n",
              "      <td>0.465</td>\n",
              "      <td>0.360</td>\n",
              "      <td>0.080</td>\n",
              "      <td>0.4880</td>\n",
              "      <td>0.1910</td>\n",
              "      <td>0.1250</td>\n",
              "      <td>0.155</td>\n",
              "      <td>11</td>\n",
              "    </tr>\n",
              "    <tr>\n",
              "      <th>3</th>\n",
              "      <td>692</td>\n",
              "      <td>693</td>\n",
              "      <td>3</td>\n",
              "      <td>0.380</td>\n",
              "      <td>0.300</td>\n",
              "      <td>0.090</td>\n",
              "      <td>0.2770</td>\n",
              "      <td>0.1655</td>\n",
              "      <td>0.0625</td>\n",
              "      <td>0.082</td>\n",
              "      <td>6</td>\n",
              "    </tr>\n",
              "    <tr>\n",
              "      <th>4</th>\n",
              "      <td>575</td>\n",
              "      <td>576</td>\n",
              "      <td>2</td>\n",
              "      <td>0.510</td>\n",
              "      <td>0.390</td>\n",
              "      <td>0.125</td>\n",
              "      <td>0.6565</td>\n",
              "      <td>0.2620</td>\n",
              "      <td>0.1835</td>\n",
              "      <td>0.175</td>\n",
              "      <td>10</td>\n",
              "    </tr>\n",
              "  </tbody>\n",
              "</table>\n",
              "</div>\n",
              "      <button class=\"colab-df-convert\" onclick=\"convertToInteractive('df-662bb7cb-70d8-4132-9562-5cc62ebea4aa')\"\n",
              "              title=\"Convert this dataframe to an interactive table.\"\n",
              "              style=\"display:none;\">\n",
              "        \n",
              "  <svg xmlns=\"http://www.w3.org/2000/svg\" height=\"24px\"viewBox=\"0 0 24 24\"\n",
              "       width=\"24px\">\n",
              "    <path d=\"M0 0h24v24H0V0z\" fill=\"none\"/>\n",
              "    <path d=\"M18.56 5.44l.94 2.06.94-2.06 2.06-.94-2.06-.94-.94-2.06-.94 2.06-2.06.94zm-11 1L8.5 8.5l.94-2.06 2.06-.94-2.06-.94L8.5 2.5l-.94 2.06-2.06.94zm10 10l.94 2.06.94-2.06 2.06-.94-2.06-.94-.94-2.06-.94 2.06-2.06.94z\"/><path d=\"M17.41 7.96l-1.37-1.37c-.4-.4-.92-.59-1.43-.59-.52 0-1.04.2-1.43.59L10.3 9.45l-7.72 7.72c-.78.78-.78 2.05 0 2.83L4 21.41c.39.39.9.59 1.41.59.51 0 1.02-.2 1.41-.59l7.78-7.78 2.81-2.81c.8-.78.8-2.07 0-2.86zM5.41 20L4 18.59l7.72-7.72 1.47 1.35L5.41 20z\"/>\n",
              "  </svg>\n",
              "      </button>\n",
              "      \n",
              "  <style>\n",
              "    .colab-df-container {\n",
              "      display:flex;\n",
              "      flex-wrap:wrap;\n",
              "      gap: 12px;\n",
              "    }\n",
              "\n",
              "    .colab-df-convert {\n",
              "      background-color: #E8F0FE;\n",
              "      border: none;\n",
              "      border-radius: 50%;\n",
              "      cursor: pointer;\n",
              "      display: none;\n",
              "      fill: #1967D2;\n",
              "      height: 32px;\n",
              "      padding: 0 0 0 0;\n",
              "      width: 32px;\n",
              "    }\n",
              "\n",
              "    .colab-df-convert:hover {\n",
              "      background-color: #E2EBFA;\n",
              "      box-shadow: 0px 1px 2px rgba(60, 64, 67, 0.3), 0px 1px 3px 1px rgba(60, 64, 67, 0.15);\n",
              "      fill: #174EA6;\n",
              "    }\n",
              "\n",
              "    [theme=dark] .colab-df-convert {\n",
              "      background-color: #3B4455;\n",
              "      fill: #D2E3FC;\n",
              "    }\n",
              "\n",
              "    [theme=dark] .colab-df-convert:hover {\n",
              "      background-color: #434B5C;\n",
              "      box-shadow: 0px 1px 3px 1px rgba(0, 0, 0, 0.15);\n",
              "      filter: drop-shadow(0px 1px 2px rgba(0, 0, 0, 0.3));\n",
              "      fill: #FFFFFF;\n",
              "    }\n",
              "  </style>\n",
              "\n",
              "      <script>\n",
              "        const buttonEl =\n",
              "          document.querySelector('#df-662bb7cb-70d8-4132-9562-5cc62ebea4aa button.colab-df-convert');\n",
              "        buttonEl.style.display =\n",
              "          google.colab.kernel.accessAllowed ? 'block' : 'none';\n",
              "\n",
              "        async function convertToInteractive(key) {\n",
              "          const element = document.querySelector('#df-662bb7cb-70d8-4132-9562-5cc62ebea4aa');\n",
              "          const dataTable =\n",
              "            await google.colab.kernel.invokeFunction('convertToInteractive',\n",
              "                                                     [key], {});\n",
              "          if (!dataTable) return;\n",
              "\n",
              "          const docLinkHtml = 'Like what you see? Visit the ' +\n",
              "            '<a target=\"_blank\" href=https://colab.research.google.com/notebooks/data_table.ipynb>data table notebook</a>'\n",
              "            + ' to learn more about interactive tables.';\n",
              "          element.innerHTML = '';\n",
              "          dataTable['output_type'] = 'display_data';\n",
              "          await google.colab.output.renderOutput(dataTable, element);\n",
              "          const docLink = document.createElement('div');\n",
              "          docLink.innerHTML = docLinkHtml;\n",
              "          element.appendChild(docLink);\n",
              "        }\n",
              "      </script>\n",
              "    </div>\n",
              "  </div>\n",
              "  "
            ]
          },
          "metadata": {},
          "execution_count": 8
        }
      ]
    },
    {
      "cell_type": "code",
      "source": [
        "fig = plt.figure(figsize=(10,10))\n",
        "ax=fig.gca()\n",
        "\n",
        "kind_cols = ['Lenght','Diameter','Height','Whole Weight','Shucked Weight', 'Viscra Weight','Shell Weight','Target']\n",
        "corr=train[kind_cols].corr(method='pearson')\n",
        "sns.set(font_scale=2)\n",
        "heatmap = sns.heatmap(corr.values, annot =True, fmt='.2f', annot_kws={'size':15},\n",
        "                      yticklabels = kind_cols, xticklabels = kind_cols, ax=ax, cmap=\"RdYlBu\")\n",
        "plt.tight_layout()\n",
        "plt.show()\n",
        "# 각 feature들 사이의 상관관계를 히트맵으로 구성해봤다.\n",
        "# 각 feature들의 상관관계는 새로운 feature들을 만드는 기준으로 쓸 것이다."
      ],
      "metadata": {
        "colab": {
          "base_uri": "https://localhost:8080/",
          "height": 699
        },
        "id": "PGuO7y7Q-Tyv",
        "outputId": "cd0808e7-9b8a-40aa-f1e1-697e130683f2"
      },
      "execution_count": null,
      "outputs": [
        {
          "output_type": "display_data",
          "data": {
            "text/plain": [
              "<Figure size 720x720 with 2 Axes>"
            ],
            "image/png": "[encoded data removed]"
          },
          "metadata": {
            "needs_background": "light"
          }
        }
      ]
    },
    {
      "cell_type": "code",
      "source": [
        "train[\"Sunsal\"]=train['Whole Weight']-train['Viscra Weight']-train['Shucked Weight']\n",
        "train[\"SSize\"]=2*train['Shell Weight']+train['Diameter']+train[\"Height\"]\n",
        "train[\"Size\"]=train['Shell Weight']+train['Diameter']+train['Lenght']\n",
        "train[\"Ratio\"]=train[\"Shucked Weight\"]/train[\"Whole Weight\"]\n",
        "#train[\"density\"]=train[\"Shucked Weight\"]/(train[\"Lenght\"]*train[\"Diameter\"]*train[\"Height\"])\n",
        "train[\"Shell Water\"]=train[\"Whole Weight\"]-train[\"Shucked Weight\"]+train[\"Shell Weight\"]\n",
        "#train['Pie']=train['Diameter']/train['Lenght']\n",
        "train['Circle']=train['Diameter']*train['Lenght']\n",
        "#train['foreign body'] = train['Whole Weight'] - (train['Shucked Weight'] + train['Viscra Weight'] + train['Shell Weight'])\n",
        "\n",
        "\n",
        "test[\"Sunsal\"]=test['Whole Weight']-test['Viscra Weight']-test['Shucked Weight']\n",
        "test[\"SSize\"]=2*test[\"Shell Weight\"]+test['Diameter']+test[\"Height\"]\n",
        "test[\"Size\"]=test['Shell Weight']+test['Diameter']+test['Lenght']\n",
        "test[\"Ratio\"]=test[\"Shucked Weight\"]/test[\"Whole Weight\"]\n",
        "#test[\"density\"]=test[\"Shucked Weight\"]/(test[\"Lenght\"]*test[\"Diameter\"]*test[\"Height\"])\n",
        "test[\"Shell Water\"]=test[\"Whole Weight\"]-test[\"Shucked Weight\"]+test[\"Shell Weight\"]\n",
        "#test['Pie']=test['Diameter']/test['Lenght']\n",
        "test['Circle']=test['Diameter']*test['Lenght']\n",
        "#test['foreign body'] = test['Whole Weight'] - (test['Shucked Weight'] + test['Viscra Weight'] + test['Shell Weight'])\n",
        "\n",
        "# 여기서 Feature를 만든 기준은 Feature 끼리 상관관계가 높은 순으로 했음.\n",
        "# 그리고 결과를 보고 모델의 성능을 낮춘 Feature들은 주석처리함."
      ],
      "metadata": {
        "id": "STWsJAZJPqM4"
      },
      "execution_count": null,
      "outputs": []
    },
    {
      "cell_type": "code",
      "source": [
        "corr28=train.corr(method='pearson')\n",
        "s28 = corr28.unstack()\n",
        "df_temp28 = pd.DataFrame(s28['Target'].sort_values(ascending=False), columns=['Target'])\n",
        "df_temp28.style.background_gradient(cmap='viridis')\n",
        "\n",
        "# 각 Feature들과 Target과의 상관관계를 알아봄."
      ],
      "metadata": {
        "id": "ecYNg2CVQMZa",
        "colab": {
          "base_uri": "https://localhost:8080/",
          "height": 582
        },
        "outputId": "4018e4a2-ca98-4d32-ab18-f79981ced278"
      },
      "execution_count": null,
      "outputs": [
        {
          "output_type": "execute_result",
          "data": {
            "text/plain": [
              "<pandas.io.formats.style.Styler at 0x7f36d15464d0>"
            ],
            "text/html": [
              "<style type=\"text/css\">\n",
              "#T_a09c6_row0_col0 {\n",
              "  background-color: #fde725;\n",
              "  color: #000000;\n",
              "}\n",
              "#T_a09c6_row1_col0 {\n",
              "  background-color: #50c46a;\n",
              "  color: #000000;\n",
              "}\n",
              "#T_a09c6_row2_col0 {\n",
              "  background-color: #4ac16d;\n",
              "  color: #000000;\n",
              "}\n",
              "#T_a09c6_row3_col0 {\n",
              "  background-color: #48c16e;\n",
              "  color: #f1f1f1;\n",
              "}\n",
              "#T_a09c6_row4_col0, #T_a09c6_row5_col0 {\n",
              "  background-color: #46c06f;\n",
              "  color: #f1f1f1;\n",
              "}\n",
              "#T_a09c6_row6_col0 {\n",
              "  background-color: #42be71;\n",
              "  color: #f1f1f1;\n",
              "}\n",
              "#T_a09c6_row7_col0 {\n",
              "  background-color: #3dbc74;\n",
              "  color: #f1f1f1;\n",
              "}\n",
              "#T_a09c6_row8_col0 {\n",
              "  background-color: #37b878;\n",
              "  color: #f1f1f1;\n",
              "}\n",
              "#T_a09c6_row9_col0 {\n",
              "  background-color: #35b779;\n",
              "  color: #f1f1f1;\n",
              "}\n",
              "#T_a09c6_row10_col0 {\n",
              "  background-color: #32b67a;\n",
              "  color: #f1f1f1;\n",
              "}\n",
              "#T_a09c6_row11_col0 {\n",
              "  background-color: #2ab07f;\n",
              "  color: #f1f1f1;\n",
              "}\n",
              "#T_a09c6_row12_col0 {\n",
              "  background-color: #22a785;\n",
              "  color: #f1f1f1;\n",
              "}\n",
              "#T_a09c6_row13_col0, #T_a09c6_row14_col0 {\n",
              "  background-color: #31668e;\n",
              "  color: #f1f1f1;\n",
              "}\n",
              "#T_a09c6_row15_col0 {\n",
              "  background-color: #481b6d;\n",
              "  color: #f1f1f1;\n",
              "}\n",
              "#T_a09c6_row16_col0 {\n",
              "  background-color: #440154;\n",
              "  color: #f1f1f1;\n",
              "}\n",
              "</style>\n",
              "<table id=\"T_a09c6_\" class=\"dataframe\">\n",
              "  <thead>\n",
              "    <tr>\n",
              "      <th class=\"blank level0\" >&nbsp;</th>\n",
              "      <th class=\"col_heading level0 col0\" >Target</th>\n",
              "    </tr>\n",
              "  </thead>\n",
              "  <tbody>\n",
              "    <tr>\n",
              "      <th id=\"T_a09c6_level0_row0\" class=\"row_heading level0 row0\" >Target</th>\n",
              "      <td id=\"T_a09c6_row0_col0\" class=\"data row0 col0\" >1.000000</td>\n",
              "    </tr>\n",
              "    <tr>\n",
              "      <th id=\"T_a09c6_level0_row1\" class=\"row_heading level0 row1\" >Sunsal</th>\n",
              "      <td id=\"T_a09c6_row1_col0\" class=\"data row1 col0\" >0.622138</td>\n",
              "    </tr>\n",
              "    <tr>\n",
              "      <th id=\"T_a09c6_level0_row2\" class=\"row_heading level0 row2\" >SSize</th>\n",
              "      <td id=\"T_a09c6_row2_col0\" class=\"data row2 col0\" >0.604970</td>\n",
              "    </tr>\n",
              "    <tr>\n",
              "      <th id=\"T_a09c6_level0_row3\" class=\"row_heading level0 row3\" >Shell Weight</th>\n",
              "      <td id=\"T_a09c6_row3_col0\" class=\"data row3 col0\" >0.602336</td>\n",
              "    </tr>\n",
              "    <tr>\n",
              "      <th id=\"T_a09c6_level0_row4\" class=\"row_heading level0 row4\" >Shell Water</th>\n",
              "      <td id=\"T_a09c6_row4_col0\" class=\"data row4 col0\" >0.595841</td>\n",
              "    </tr>\n",
              "    <tr>\n",
              "      <th id=\"T_a09c6_level0_row5\" class=\"row_heading level0 row5\" >Height</th>\n",
              "      <td id=\"T_a09c6_row5_col0\" class=\"data row5 col0\" >0.594533</td>\n",
              "    </tr>\n",
              "    <tr>\n",
              "      <th id=\"T_a09c6_level0_row6\" class=\"row_heading level0 row6\" >Size</th>\n",
              "      <td id=\"T_a09c6_row6_col0\" class=\"data row6 col0\" >0.584873</td>\n",
              "    </tr>\n",
              "    <tr>\n",
              "      <th id=\"T_a09c6_level0_row7\" class=\"row_heading level0 row7\" >Diameter</th>\n",
              "      <td id=\"T_a09c6_row7_col0\" class=\"data row7 col0\" >0.568242</td>\n",
              "    </tr>\n",
              "    <tr>\n",
              "      <th id=\"T_a09c6_level0_row8\" class=\"row_heading level0 row8\" >Lenght</th>\n",
              "      <td id=\"T_a09c6_row8_col0\" class=\"data row8 col0\" >0.545174</td>\n",
              "    </tr>\n",
              "    <tr>\n",
              "      <th id=\"T_a09c6_level0_row9\" class=\"row_heading level0 row9\" >Circle</th>\n",
              "      <td id=\"T_a09c6_row9_col0\" class=\"data row9 col0\" >0.543394</td>\n",
              "    </tr>\n",
              "    <tr>\n",
              "      <th id=\"T_a09c6_level0_row10\" class=\"row_heading level0 row10\" >Whole Weight</th>\n",
              "      <td id=\"T_a09c6_row10_col0\" class=\"data row10 col0\" >0.533131</td>\n",
              "    </tr>\n",
              "    <tr>\n",
              "      <th id=\"T_a09c6_level0_row11\" class=\"row_heading level0 row11\" >Viscra Weight</th>\n",
              "      <td id=\"T_a09c6_row11_col0\" class=\"data row11 col0\" >0.500339</td>\n",
              "    </tr>\n",
              "    <tr>\n",
              "      <th id=\"T_a09c6_level0_row12\" class=\"row_heading level0 row12\" >Shucked Weight</th>\n",
              "      <td id=\"T_a09c6_row12_col0\" class=\"data row12 col0\" >0.442839</td>\n",
              "    </tr>\n",
              "    <tr>\n",
              "      <th id=\"T_a09c6_level0_row13\" class=\"row_heading level0 row13\" >id</th>\n",
              "      <td id=\"T_a09c6_row13_col0\" class=\"data row13 col0\" >0.076055</td>\n",
              "    </tr>\n",
              "    <tr>\n",
              "      <th id=\"T_a09c6_level0_row14\" class=\"row_heading level0 row14\" >Unnamed: 0</th>\n",
              "      <td id=\"T_a09c6_row14_col0\" class=\"data row14 col0\" >0.076055</td>\n",
              "    </tr>\n",
              "    <tr>\n",
              "      <th id=\"T_a09c6_level0_row15\" class=\"row_heading level0 row15\" >Ratio</th>\n",
              "      <td id=\"T_a09c6_row15_col0\" class=\"data row15 col0\" >-0.275495</td>\n",
              "    </tr>\n",
              "    <tr>\n",
              "      <th id=\"T_a09c6_level0_row16\" class=\"row_heading level0 row16\" >Gender</th>\n",
              "      <td id=\"T_a09c6_row16_col0\" class=\"data row16 col0\" >-0.372809</td>\n",
              "    </tr>\n",
              "  </tbody>\n",
              "</table>\n"
            ]
          },
          "metadata": {},
          "execution_count": 11
        }
      ]
    },
    {
      "cell_type": "code",
      "source": [
        "train_x = train.drop(['id', 'Target','Unnamed: 0'], axis=1)\n",
        "train_y = train.Target\n",
        "# 쓸모없는 id와 Unnamed는 삭제하고, 학습할 data를 나누어준다."
      ],
      "metadata": {
        "id": "gcf9YThvAFzG"
      },
      "execution_count": null,
      "outputs": []
    },
    {
      "cell_type": "code",
      "source": [
        "from sklearn.ensemble import RandomForestRegressor\n",
        "from sklearn.linear_model import LinearRegression\n",
        "from sklearn.ensemble import GradientBoostingRegressor\n",
        "from sklearn.linear_model import LogisticRegression\n",
        "# 앙상블 기법을 쓰기로 했다."
      ],
      "metadata": {
        "id": "_2tJ940JDRdX"
      },
      "execution_count": null,
      "outputs": []
    },
    {
      "cell_type": "code",
      "source": [
        "models=[]\n",
        "\n",
        "models.append(RandomForestRegressor(random_state=32))\n",
        "#models.append(LinearRegression())\n",
        "#models.append(GradientBoostingRegressor(learning_rate=0.06, criterion='mae', random_state=32))\n",
        "#models.append(LogisticRegression())\n",
        "# 모델들을 학습시켜본 결과 RandomForest만 학습시키는게 가장 결과가 좋았다.\n",
        "\n",
        "for model in models:\n",
        "  model.fit(train_x, train_y) "
      ],
      "metadata": {
        "id": "TK8KeVzUDFQv"
      },
      "execution_count": null,
      "outputs": []
    },
    {
      "cell_type": "code",
      "source": [
        "test_x = test.drop(['id','Target','Unnamed: 0'], axis=1)\n",
        "test_y = test.Target\n",
        "# 쓸모없는 id와 Unnamed는 삭제하고 학습할 data와 비교할 target을 나누어준다."
      ],
      "metadata": {
        "id": "y8bIS-rIHPgs"
      },
      "execution_count": null,
      "outputs": []
    },
    {
      "cell_type": "code",
      "source": [
        "prediction = None\n",
        "\n",
        "for model in models:\n",
        "    if prediction is None:\n",
        "        prediction = model.predict(test_x)\n",
        "    else:\n",
        "        prediction += model.predict(test_x)\n",
        "\n",
        "prediction /= len(models)\n",
        "# 모든 모델의 결과를 다 더하고, 평균을 구함. -> 측정기준"
      ],
      "metadata": {
        "id": "mlLRYD7bMjiQ"
      },
      "execution_count": null,
      "outputs": []
    },
    {
      "cell_type": "code",
      "source": [
        "prediction # 예측 결과"
      ],
      "metadata": {
        "id": "4GrYGJCDNJtp",
        "colab": {
          "base_uri": "https://localhost:8080/"
        },
        "outputId": "c02e5598-bf36-4e1e-aace-2c6de464b826"
      },
      "execution_count": null,
      "outputs": [
        {
          "output_type": "execute_result",
          "data": {
            "text/plain": [
              "array([ 9.98, 13.85,  9.67,  7.21,  9.75,  7.69,  8.57, 13.27, 11.39,\n",
              "        8.12,  6.56, 14.54,  7.68, 11.69, 17.88,  9.89,  8.61,  6.45,\n",
              "       10.22,  8.53, 10.1 ,  7.69, 12.03, 12.06, 12.5 ,  8.51,  7.19,\n",
              "        9.34,  9.  ,  8.89, 15.01, 11.64, 10.37,  9.6 ,  6.63,  7.  ,\n",
              "       10.41,  7.55, 10.09, 10.81,  7.93,  8.39,  6.05, 10.82, 10.58,\n",
              "        7.65,  9.34, 10.35, 10.79,  7.96,  9.36,  6.97, 11.33, 10.69,\n",
              "        8.03, 13.51, 10.16,  6.02,  8.56, 16.07,  8.13, 17.09, 13.91,\n",
              "        8.41,  5.98, 13.26, 11.16, 10.94,  9.49,  8.87, 10.46, 10.15,\n",
              "        7.7 , 11.28, 10.71, 10.99, 14.09, 10.48,  6.06,  8.88, 10.17,\n",
              "        7.74, 10.62,  7.29, 10.01,  6.44, 10.91,  8.91, 10.12,  9.07,\n",
              "       10.7 ,  7.29, 10.8 , 12.94, 13.25, 12.41,  9.58, 11.63,  9.58,\n",
              "       10.77,  7.15, 10.46,  4.05,  9.06,  9.95,  9.5 ,  6.15,  9.45,\n",
              "       10.25, 13.9 , 11.02,  7.51,  6.08,  6.34, 10.84,  6.7 , 12.66,\n",
              "       11.81,  9.44, 11.89, 12.45, 10.44,  9.65, 13.22,  8.  ,  9.79])"
            ]
          },
          "metadata": {},
          "execution_count": 17
        }
      ]
    },
    {
      "cell_type": "code",
      "source": [
        "from sklearn import linear_model\n",
        "regr=linear_model.LinearRegression()\n",
        "Data=[]\n",
        "for i,j in zip(prediction, test_y):\n",
        "  Data.append([i,j])\n",
        "\n",
        "data=np.array(Data)\n",
        "x=data[:,1].reshape(-1,1)\n",
        "y=data[:,0]\n",
        "\n",
        "regr.fit(x,y)\n",
        "plt.figure(figsize=(10,10))\n",
        "plt.scatter(x, y)\n",
        "plt.plot(x,regr.predict(x), color='blue', linewidth=2)\n",
        "plt.title('Compare Prediction & Real', size=30)\n",
        "plt.xlabel('Prediction_Target', size=20)\n",
        "plt.ylabel('Real_Target', size=20)\n",
        "plt.show() # 예측 나이와 실제 나이와의 관계를 그래프로 나타냄"
      ],
      "metadata": {
        "id": "z2LvUvw3Dnx2",
        "colab": {
          "base_uri": "https://localhost:8080/",
          "height": 657
        },
        "outputId": "25124065-fd80-4ed8-9278-7f6377831f32"
      },
      "execution_count": null,
      "outputs": [
        {
          "output_type": "display_data",
          "data": {
            "text/plain": [
              "<Figure size 720x720 with 1 Axes>"
            ],
            "image/png": "[encoded data removed]"
          },
          "metadata": {}
        }
      ]
    },
    {
      "cell_type": "code",
      "source": [
        "test_y=test.Target\n",
        "test_y.mean() # 실제 평균나이"
      ],
      "metadata": {
        "id": "YOtfBowZ8u4K",
        "colab": {
          "base_uri": "https://localhost:8080/"
        },
        "outputId": "a1ba9019-7e81-4f82-dea4-3fbfd7926ee0"
      },
      "execution_count": null,
      "outputs": [
        {
          "output_type": "execute_result",
          "data": {
            "text/plain": [
              "9.833333333333334"
            ]
          },
          "metadata": {},
          "execution_count": 19
        }
      ]
    },
    {
      "cell_type": "code",
      "source": [
        "prediction.mean() # 예측한 평균나이"
      ],
      "metadata": {
        "colab": {
          "base_uri": "https://localhost:8080/"
        },
        "id": "z7ZYgAbD42vh",
        "outputId": "95aa9a19-8ba7-455e-fc03-cddb35d381c8"
      },
      "execution_count": null,
      "outputs": [
        {
          "output_type": "execute_result",
          "data": {
            "text/plain": [
              "9.877460317460317"
            ]
          },
          "metadata": {},
          "execution_count": 20
        }
      ]
    },
    {
      "cell_type": "code",
      "source": [
        "prediction_round=prediction\n",
        "prediction_round=np.round(prediction_round, 0) # 실제 나이는 소수점이 없으므로 예측한 나이를 반올림함\n",
        "\n",
        "plt.figure(figsize=(20,10))\n",
        "plt.hist(prediction_round, label=\"prediction\", color='blue', alpha=0.4, bins=50, edgecolor='black')\n",
        "plt.hist(test_y, label=\"real\", color='red', alpha=0.4, bins=50, edgecolor='black')\n",
        "plt.xlabel('Target', size=20)\n",
        "plt.ylabel('Count', size=20)\n",
        "plt.title('Compare Target', size=40)\n",
        "plt.legend()\n",
        "plt.show() # 나이 비교 그래프\n",
        "\n",
        "# 나이가 너무 많은 전복의 경우 잘 예측하지 못한다."
      ],
      "metadata": {
        "colab": {
          "base_uri": "https://localhost:8080/",
          "height": 664
        },
        "id": "XWr1Ccx3c2aJ",
        "outputId": "4d536bd7-4ace-4084-ff1d-5a6183338aec"
      },
      "execution_count": null,
      "outputs": [
        {
          "output_type": "display_data",
          "data": {
            "text/plain": [
              "<Figure size 1440x720 with 1 Axes>"
            ],
            "image/png": "[encoded data removed]"
          },
          "metadata": {}
        }
      ]
    },
    {
      "cell_type": "code",
      "source": [
        "error=test_y-prediction # 오차\n",
        "\n",
        "Error=[]\n",
        "for i in error:\n",
        "  Error.append(math.sqrt(i*i)) # 평균에서의 '차이'는 음수가 나오면 안되므로 모두 양수로 바꿔준다."
      ],
      "metadata": {
        "id": "SL95cAyUbR-w"
      },
      "execution_count": null,
      "outputs": []
    },
    {
      "cell_type": "code",
      "source": [
        "plt.figure(figsize=(15,10))\n",
        "plt.hist(Error, alpha=0.4, bins=100, range=[0,10], edgecolor='black')\n",
        "plt.show() # 오차 그래프"
      ],
      "metadata": {
        "colab": {
          "base_uri": "https://localhost:8080/",
          "height": 604
        },
        "id": "D6PpCC2HcBX4",
        "outputId": "a18a351d-a4c3-49f9-c956-b3cfff9e3c5e"
      },
      "execution_count": null,
      "outputs": [
        {
          "output_type": "display_data",
          "data": {
            "text/plain": [
              "<Figure size 1080x720 with 1 Axes>"
            ],
            "image/png": "[encoded data removed]"
          },
          "metadata": {}
        }
      ]
    },
    {
      "cell_type": "code",
      "source": [
        "sns.violinplot(Error) # 오차의 분포"
      ],
      "metadata": {
        "colab": {
          "base_uri": "https://localhost:8080/",
          "height": 350
        },
        "id": "xLmy0LLHiUvu",
        "outputId": "4232ca09-4a9b-4dfb-ea72-28bdf762ab19"
      },
      "execution_count": null,
      "outputs": [
        {
          "output_type": "stream",
          "name": "stderr",
          "text": [
            "/usr/local/lib/python3.7/dist-packages/seaborn/_decorators.py:43: FutureWarning: Pass the following variable as a keyword arg: x. From version 0.12, the only valid positional argument will be `data`, and passing other arguments without an explicit keyword will result in an error or misinterpretation.\n",
            "  FutureWarning\n"
          ]
        },
        {
          "output_type": "execute_result",
          "data": {
            "text/plain": [
              "<matplotlib.axes._subplots.AxesSubplot at 0x7f36cd945a90>"
            ]
          },
          "metadata": {},
          "execution_count": 24
        },
        {
          "output_type": "display_data",
          "data": {
            "text/plain": [
              "<Figure size 432x288 with 1 Axes>"
            ],
            "image/png": "[encoded data removed]"
          },
          "metadata": {}
        }
      ]
    },
    {
      "cell_type": "code",
      "source": [
        "max(Error) # 최대 오차"
      ],
      "metadata": {
        "id": "wk9ywEOFbVHz",
        "colab": {
          "base_uri": "https://localhost:8080/"
        },
        "outputId": "67dc77d3-df5e-4d12-ccf8-be33495de4fb"
      },
      "execution_count": null,
      "outputs": [
        {
          "output_type": "execute_result",
          "data": {
            "text/plain": [
              "7.59"
            ]
          },
          "metadata": {},
          "execution_count": 25
        }
      ]
    },
    {
      "cell_type": "code",
      "source": [
        "min(Error) # 최소 오차"
      ],
      "metadata": {
        "id": "JabdXpwmbU8S",
        "colab": {
          "base_uri": "https://localhost:8080/"
        },
        "outputId": "0483981b-fd53-4c6c-d442-a385d9212220"
      },
      "execution_count": null,
      "outputs": [
        {
          "output_type": "execute_result",
          "data": {
            "text/plain": [
              "0.019999999999999574"
            ]
          },
          "metadata": {},
          "execution_count": 26
        }
      ]
    },
    {
      "cell_type": "code",
      "source": [
        "np.mean(Error) # 평균 오차"
      ],
      "metadata": {
        "id": "jsUVh4WkbU2Y",
        "colab": {
          "base_uri": "https://localhost:8080/"
        },
        "outputId": "2ca093f0-d5d3-452b-cf59-bc83ce560a22"
      },
      "execution_count": null,
      "outputs": [
        {
          "output_type": "execute_result",
          "data": {
            "text/plain": [
              "1.4296825396825397"
            ]
          },
          "metadata": {},
          "execution_count": 27
        }
      ]
    },
    {
      "cell_type": "code",
      "source": [
        "np.var(Error)\n",
        "# 분산 -> 분산이 0에 가까울 수록 성능이 높다고 기준을 두었다.\n",
        "# 물론 평균 오차가 너무 커지지 않아야 편향이 발생하지 않는다.\n",
        "# 평균오차와 분산을 적절히 비교하여, 편향과 분산이 낮은 결과를 도출했다. ex) 평균 오차 + 분산"
      ],
      "metadata": {
        "colab": {
          "base_uri": "https://localhost:8080/"
        },
        "id": "wDbUh6gVXNfz",
        "outputId": "2d180056-7698-4ac8-aec6-a50c539069fb"
      },
      "execution_count": null,
      "outputs": [
        {
          "output_type": "execute_result",
          "data": {
            "text/plain": [
              "1.7268951373141852"
            ]
          },
          "metadata": {},
          "execution_count": 28
        }
      ]
    },
    {
      "cell_type": "code",
      "source": [
        "print(np.var(Error)+np.mean(Error)) # 평균 오차 + 분산"
      ],
      "metadata": {
        "colab": {
          "base_uri": "https://localhost:8080/"
        },
        "id": "DSSO_rx4HAP3",
        "outputId": "e18e6e12-ce3a-44b7-c733-3ef9d3f55e65"
      },
      "execution_count": null,
      "outputs": [
        {
          "output_type": "stream",
          "name": "stdout",
          "text": [
            "3.156577676996725\n"
          ]
        }
      ]
    },
    {
      "cell_type": "code",
      "source": [
        "# Lenght를 제거했을 때, 평균 오차 + 분산 = 3.1492905076845554 으로 최저가 되었지만,\n",
        "# 분산의 값이 더 높아 1.8대로 높아졌으므로 모델의 성능이 더 떨어졌을 것이라고 추측했다."
      ],
      "metadata": {
        "id": "9MexiOt0I0s7"
      },
      "execution_count": null,
      "outputs": []
    },
    {
      "cell_type": "code",
      "source": [
        "# np.mean(Error) 평균오차를 최소로 구했을 때, 나온 결과값 : 1.3601887436373372"
      ],
      "metadata": {
        "id": "Xi54DcN89HxA"
      },
      "execution_count": null,
      "outputs": []
    },
    {
      "cell_type": "code",
      "source": [
        "# np.var(Error) 평균오차가 최소일 때의 분산 : 2.032259956157495"
      ],
      "metadata": {
        "id": "xBZUqzA79Nu0"
      },
      "execution_count": null,
      "outputs": []
    },
    {
      "cell_type": "code",
      "source": [
        "# 평균오차를 최소로 구했을 때, 나온 평균오차 + 분산 = 3.3924486997948327"
      ],
      "metadata": {
        "id": "cBKuXz2aHLRg"
      },
      "execution_count": null,
      "outputs": []
    },
    {
      "cell_type": "code",
      "source": [
        "np.std(Error) # 표준 편차"
      ],
      "metadata": {
        "colab": {
          "base_uri": "https://localhost:8080/"
        },
        "id": "-JbfbLMgebvP",
        "outputId": "634f581d-c072-40b6-d5bd-bac320d4866e"
      },
      "execution_count": null,
      "outputs": [
        {
          "output_type": "execute_result",
          "data": {
            "text/plain": [
              "1.3141138220543094"
            ]
          },
          "metadata": {},
          "execution_count": 34
        }
      ]
    },
    {
      "cell_type": "code",
      "source": [
        "def NMAE(test_y, prediction):\n",
        "    mae = np.mean(np.abs(test_y-prediction))\n",
        "    score = mae / np.mean(np.abs(test_y))\n",
        "    return score\n",
        "\n",
        "print(NMAE(test_y,prediction))"
      ],
      "metadata": {
        "colab": {
          "base_uri": "https://localhost:8080/"
        },
        "id": "BJXJNJAgsUNF",
        "outputId": "fc36f3b1-06c9-49a3-bfb9-0882bbeec08f"
      },
      "execution_count": null,
      "outputs": [
        {
          "output_type": "stream",
          "name": "stdout",
          "text": [
            "0.1453914447134786\n"
          ]
        }
      ]
    },
    {
      "cell_type": "code",
      "source": [
        "import pickle\n",
        "with open('2018037053_홍진석','wb') as fw:\n",
        "  pickle.dump(models,fw)"
      ],
      "metadata": {
        "id": "RCScUAgApu12"
      },
      "execution_count": null,
      "outputs": []
    }
  ]
}